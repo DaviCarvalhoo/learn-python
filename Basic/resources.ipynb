{
 "cells": [
  {
   "cell_type": "code",
   "execution_count": 2,
   "metadata": {},
   "outputs": [
    {
     "name": "stdout",
     "output_type": "stream",
     "text": [
      "[1, 4, 9, 16, 25, 36, 49, 64, 81, 100]\n"
     ]
    }
   ],
   "source": [
    "# potencias = []\n",
    "# for item in range(1, 11):\n",
    "#   potencias.append(item ** 2)\n",
    "# print(potencias)\n",
    "potencias = [item ** 2for item in range(1, 11)]\n",
    "print(potencias)\n",
    "# print( [n * 10 for n in range(1, 16)] ) # Multiplica por 10 os números de 1 a 15\n",
    "# print( [c.upper() for c in 'antonio'] ) # Cria lista com os caracteres em maísculo\n",
    "# print( [(n % 2 == 0) for n in range(0, 10)] ) # Indica se n é par ou não"
   ]
  },
  {
   "cell_type": "code",
   "execution_count": 4,
   "metadata": {},
   "outputs": [
    {
     "name": "stdout",
     "output_type": "stream",
     "text": [
      "[1, 9, 25, 49, 81]\n"
     ]
    }
   ],
   "source": [
    "# potencias = []\n",
    "# for item in range(1, 11):\n",
    "#   if item % 2 != 0:\n",
    "#     potencias.append(item ** 2)\n",
    "# print(potencias)\n",
    "\n",
    "potencias = [item ** 2 for item in range(1, 11) if item % 2 != 0]\n",
    "print(potencias)"
   ]
  },
  {
   "cell_type": "code",
   "execution_count": 6,
   "metadata": {},
   "outputs": [
    {
     "name": "stdout",
     "output_type": "stream",
     "text": [
      "Todos numeros: {1: 1, 2: 4, 3: 9, 4: 16, 5: 25, 6: 36, 7: 49, 8: 64, 9: 81, 10: 100}\n",
      "Números ímpares: {1: 1, 3: 9, 5: 25, 7: 49, 9: 81}\n",
      "Todos numeros: {1: 1, 2: 4, 3: 9, 4: 16, 5: 25, 6: 36, 7: 49, 8: 64, 9: 81, 10: 100}\n",
      "Números ímpares: {1: 1, 3: 9, 5: 25, 7: 49, 9: 81}\n"
     ]
    }
   ],
   "source": [
    "# todos os números elevado à potência 2\n",
    "dict_todos = {}\n",
    "for item in range(1, 11):\n",
    "  dict_todos[item] = item ** 2\n",
    "print('Todos numeros:', dict_todos)\n",
    "\n",
    "# apenas números ímpares elevado à potência 2\n",
    "dict_impares = {}\n",
    "for item in range(1, 11):\n",
    "  if item % 2 != 0:\n",
    "    dict_impares[item] = item ** 2\n",
    "print('Números ímpares:', dict_impares)\n",
    "\n",
    "# todos os números elevado à potência 2\n",
    "dict_todos = {item: item ** 2 for item in range(1, 11)}\n",
    "print('Todos numeros:', dict_todos)\n",
    "\n",
    "# apenas números ímpares elevado à potência 2\n",
    "dict_impares = {item: item ** 2 for item in range(1, 11) if item % 2 != 0}\n",
    "print('Números ímpares:', dict_impares)"
   ]
  },
  {
   "cell_type": "code",
   "execution_count": 9,
   "metadata": {},
   "outputs": [
    {
     "name": "stdout",
     "output_type": "stream",
     "text": [
      "16\n"
     ]
    },
    {
     "data": {
      "text/plain": [
       "100.0"
      ]
     },
     "execution_count": 9,
     "metadata": {},
     "output_type": "execute_result"
    }
   ],
   "source": [
    "# Declaração da função\n",
    "area_quadrado = lambda lado: lado ** 2\n",
    "# Utilização\n",
    "print(area_quadrado(4))\n",
    "\n",
    "area_triagulo = lambda base, altura: (base * altura)/2\n",
    "area_triagulo(10,20)"
   ]
  },
  {
   "cell_type": "code",
   "execution_count": 10,
   "metadata": {},
   "outputs": [
    {
     "name": "stdout",
     "output_type": "stream",
     "text": [
      "[12, 15, 27, 21, 0, 3, 24]\n",
      "[12, 15, 27, 21, 0, 3, 24]\n"
     ]
    }
   ],
   "source": [
    "# Função que calcula o triplo de número\n",
    "triplo = lambda x: x * 3\n",
    "# Calcula o triplo dos números de uma lista\n",
    "lista = [4, 5, 9, 7, 0, 1, 8]\n",
    "print(list(map(triplo, lista)))\n",
    "\n",
    "print(list(map(lambda x: x * 3, [4, 5, 9, 7, 0, 1, 8])))"
   ]
  },
  {
   "cell_type": "code",
   "execution_count": 14,
   "metadata": {},
   "outputs": [
    {
     "name": "stdout",
     "output_type": "stream",
     "text": [
      "O valor de var é: 100\n",
      "O valor de var é: 100\n"
     ]
    }
   ],
   "source": [
    "nome = 'antonio'\n",
    "if len(nome) > 5:\n",
    "  var = 100\n",
    "else:\n",
    "  var = 0\n",
    "print('O valor de var é:', var)\n",
    "\n",
    "nome = 'antonio'\n",
    "var = 100 if len(nome) > 5 else 0\n",
    "print('O valor de var é:', var)"
   ]
  }
 ],
 "metadata": {
  "kernelspec": {
   "display_name": "Python 3",
   "language": "python",
   "name": "python3"
  },
  "language_info": {
   "codemirror_mode": {
    "name": "ipython",
    "version": 3
   },
   "file_extension": ".py",
   "mimetype": "text/x-python",
   "name": "python",
   "nbconvert_exporter": "python",
   "pygments_lexer": "ipython3",
   "version": "3.10.12"
  }
 },
 "nbformat": 4,
 "nbformat_minor": 2
}
