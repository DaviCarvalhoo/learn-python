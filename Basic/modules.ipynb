{
 "cells": [
  {
   "cell_type": "code",
   "execution_count": 1,
   "metadata": {},
   "outputs": [
    {
     "name": "stdout",
     "output_type": "stream",
     "text": [
      "Basic\n",
      "README.md\n"
     ]
    }
   ],
   "source": [
    "import module\n",
    "\n",
    "module.command(\"ls ../\")"
   ]
  },
  {
   "cell_type": "code",
   "execution_count": 2,
   "metadata": {},
   "outputs": [
    {
     "name": "stdout",
     "output_type": "stream",
     "text": [
      "4\n"
     ]
    }
   ],
   "source": [
    "from module import *\n",
    "\n",
    "soma(1,3)"
   ]
  },
  {
   "cell_type": "code",
   "execution_count": 3,
   "metadata": {},
   "outputs": [
    {
     "name": "stdout",
     "output_type": "stream",
     "text": [
      "Basic\n",
      "README.md\n"
     ]
    }
   ],
   "source": [
    "from module import command as cmd\n",
    "\n",
    "cmd(\"ls ../\")"
   ]
  },
  {
   "cell_type": "code",
   "execution_count": 4,
   "metadata": {},
   "outputs": [
    {
     "name": "stdout",
     "output_type": "stream",
     "text": [
      "Função cosseno: 0.8623188722876839\n",
      "Função log: 2.302585092994046\n"
     ]
    }
   ],
   "source": [
    "# modulo com funções matemáticas para cálculos mais complexos\n",
    "import math\n",
    "print('Função cosseno:', math.cos(100))\n",
    "print('Função log:', math.log(10))"
   ]
  },
  {
   "cell_type": "code",
   "execution_count": 6,
   "metadata": {},
   "outputs": [
    {
     "name": "stdout",
     "output_type": "stream",
     "text": [
      "[('A', 'B', 'C'), ('A', 'B', 'D'), ('A', 'C', 'D'), ('B', 'C', 'D')]\n",
      "[('a', 'b'), ('a', 'c'), ('b', 'a'), ('b', 'c'), ('c', 'a'), ('c', 'b')]\n"
     ]
    }
   ],
   "source": [
    "# modulo para construção de sequências elaboradas\n",
    "import itertools\n",
    "print(list(itertools.combinations('ABCD', 3))) # combinação de 3 em 3 \n",
    "print(list(itertools.permutations(['a', 'b', 'c'], 2)))\n",
    "# permutação de 2 em 2"
   ]
  },
  {
   "cell_type": "code",
   "execution_count": 7,
   "metadata": {},
   "outputs": [
    {
     "name": "stdout",
     "output_type": "stream",
     "text": [
      "Datetime atual: 2024-01-03 22:01:28.822426\n",
      "Datetime após 7 dias: 2024-01-10 22:01:28.826970\n"
     ]
    }
   ],
   "source": [
    "# modulo para manipulação de timestamps (datas, horários, deltas etc.)\n",
    "from datetime import datetime, timedelta\n",
    "print('Datetime atual:', datetime.now())\n",
    "print('Datetime após 7 dias:', datetime.now() + timedelta(days=7))"
   ]
  },
  {
   "cell_type": "code",
   "execution_count": 8,
   "metadata": {},
   "outputs": [
    {
     "name": "stdout",
     "output_type": "stream",
     "text": [
      "Numero aleatório entre 0 e 1: 0.32901066642249077\n",
      "Inteiro aleatório entre 50 e 100: 85\n"
     ]
    }
   ],
   "source": [
    "# modulo para criação de números e sequências randômicas\n",
    "import random\n",
    "print('Numero aleatório entre 0 e 1:', random.random())\n",
    "print('Inteiro aleatório entre 50 e 100:', random.randint(50, 100))"
   ]
  },
  {
   "cell_type": "code",
   "execution_count": null,
   "metadata": {},
   "outputs": [],
   "source": [
    "# modulo para funcionalidades que dependem do sistema operacional\n",
    "import os\n",
    "# os.mkdir('pasta') # cria um diretório chamado pasta\n",
    "print('Caminho completo:', os.path.join('/home/antonio', 'pasta', 'arquivo.txt'))"
   ]
  }
 ],
 "metadata": {
  "kernelspec": {
   "display_name": "Python 3",
   "language": "python",
   "name": "python3"
  },
  "language_info": {
   "codemirror_mode": {
    "name": "ipython",
    "version": 3
   },
   "file_extension": ".py",
   "mimetype": "text/x-python",
   "name": "python",
   "nbconvert_exporter": "python",
   "pygments_lexer": "ipython3",
   "version": "3.10.12"
  }
 },
 "nbformat": 4,
 "nbformat_minor": 2
}
