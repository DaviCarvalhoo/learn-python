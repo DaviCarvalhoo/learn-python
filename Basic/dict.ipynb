{
 "cells": [
  {
   "cell_type": "code",
   "execution_count": 28,
   "metadata": {},
   "outputs": [
    {
     "name": "stdout",
     "output_type": "stream",
     "text": [
      "dois\n",
      "um\n",
      "chave 1 encontrada\n",
      "2 dois\n",
      "1 um\n",
      "3 três\n",
      "['dois', 'um', 'três']\n",
      "2 dois\n",
      "1 um\n",
      "3 três\n"
     ]
    }
   ],
   "source": [
    "d1 = {2:'dois', 1:'um', 3:'três'}\n",
    "d2 = {'nome': 'D2', 'banda':'planet hemp', 'time':'Flamengo'}\n",
    "\n",
    "\n",
    "for key in d1:\n",
    "    print(d1[key])\n",
    "    if key == 1:\n",
    "        print('chave 1 encontrada')\n",
    "        break\n",
    "for key in d1:\n",
    "    print(key, d1[key])\n",
    "print(list(d1.values()))\n",
    "for key, values in d1.items():\n",
    "    print(key,values)"
   ]
  },
  {
   "cell_type": "code",
   "execution_count": 16,
   "metadata": {},
   "outputs": [
    {
     "name": "stdout",
     "output_type": "stream",
     "text": [
      "Meu nome é Marcelo D2, minha banda é planet hemp, meu time é o flamengo,\n",
      "meu amigo é o Skank\n",
      "um\n",
      "três\n"
     ]
    }
   ],
   "source": [
    "d2['nome'] = 'Marcelo D2'\n",
    "d2.update({'amigo':'Skank'})\n",
    "print(f\"Meu nome é {d2['nome']}, minha banda é {d2['banda']}, meu time é o {d2['time']},\\nmeu amigo é o {d2['amigo']}\")\n"
   ]
  }
 ],
 "metadata": {
  "kernelspec": {
   "display_name": "Python 3",
   "language": "python",
   "name": "python3"
  },
  "language_info": {
   "codemirror_mode": {
    "name": "ipython",
    "version": 3
   },
   "file_extension": ".py",
   "mimetype": "text/x-python",
   "name": "python",
   "nbconvert_exporter": "python",
   "pygments_lexer": "ipython3",
   "version": "3.10.12"
  }
 },
 "nbformat": 4,
 "nbformat_minor": 2
}
