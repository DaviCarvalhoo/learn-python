{
 "cells": [
  {
   "cell_type": "code",
   "execution_count": 6,
   "metadata": {},
   "outputs": [
    {
     "name": "stdout",
     "output_type": "stream",
     "text": [
      "O maior numero é: 123444\n"
     ]
    }
   ],
   "source": [
    "numeros = [12,332,32,1234,123444,12,33]\n",
    "maior_numero = numeros[0]\n",
    "for numero in numeros:\n",
    "    if numero > maior_numero:\n",
    "        maior_numero = numero\n",
    "print(f\"O maior numero é: {maior_numero}\")"
   ]
  },
  {
   "cell_type": "code",
   "execution_count": 24,
   "metadata": {},
   "outputs": [
    {
     "name": "stdout",
     "output_type": "stream",
     "text": [
      "False\n",
      "323\n",
      "3\n",
      "545\n",
      "[2333333, 10, 21, 212, 323, 421, 422]\n"
     ]
    },
    {
     "data": {
      "text/plain": [
       "1"
      ]
     },
     "execution_count": 24,
     "metadata": {},
     "output_type": "execute_result"
    }
   ],
   "source": [
    "# adicionar a lista\n",
    "numeros.append(99999)\n",
    "numeros.append(99*7)\n",
    "# alterar valor por posicão\n",
    "numeros[0] = '4321'\n",
    "# aumentar o ultimo valor da lista\n",
    "numeros[-1] = numeros[-1] + 983\n",
    "# remover valor da lista\n",
    "numeros.remove(99999)\n",
    "# verificar se tem na lista\n",
    "print(999999 in numeros)\n",
    "# maior numero da lista\n",
    "lista=[10,212,323]\n",
    "print(max(lista))\n",
    "# quantidade de itens na lista\n",
    "print(len(lista))\n",
    "# soma dos itens da lista \n",
    "print(sum(lista))\n",
    "# inverte a lista \n",
    "lista.reverse()\n",
    "# adiciona ao final da lista esse valores \n",
    "lista.extend([21,422,2123,421])\n",
    "# ordena os valores da lista \n",
    "lista.sort()\n",
    "# adiciona na posição desejada da lista ex ao inicio\n",
    "lista.insert(0,2333333)\n",
    "# remove o ultimo elemento da lista \n",
    "lista.pop()\n",
    "# exclui a lista \n",
    "# lista.clear()\n",
    "print(lista)\n",
    "# retorna indica da lista\n",
    "lista.index(21)\n",
    "# fala quantas vezes apare o item\n",
    "lista.count(10)\n"
   ]
  }
 ],
 "metadata": {
  "kernelspec": {
   "display_name": "Python 3",
   "language": "python",
   "name": "python3"
  },
  "language_info": {
   "codemirror_mode": {
    "name": "ipython",
    "version": 3
   },
   "file_extension": ".py",
   "mimetype": "text/x-python",
   "name": "python",
   "nbconvert_exporter": "python",
   "pygments_lexer": "ipython3",
   "version": "3.10.12"
  }
 },
 "nbformat": 4,
 "nbformat_minor": 2
}
