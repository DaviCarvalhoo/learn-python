{
 "cells": [
  {
   "cell_type": "code",
   "execution_count": 8,
   "metadata": {},
   "outputs": [
    {
     "name": "stdout",
     "output_type": "stream",
     "text": [
      "a => b {1, 2, 3, 4, 5, 6, 7}\n",
      "a => b {1, 2, 3, 4, 5, 6, 7}\n",
      "a => b {2, 3}\n",
      "b => a {2, 3}\n",
      "a => b {1}\n",
      "b => a {4, 5, 6, 7}\n"
     ]
    }
   ],
   "source": [
    "# lista que não repete dados \n",
    "a = {1,2,3}\n",
    "b = {2,3,4,5,3,6,4,5,7}\n",
    "# função para juntar \n",
    "print('a => b', a|b)\n",
    "print('a => b', a.union(b))\n",
    "# mostrar dados duplicados\n",
    "print('a => b', a & b)\n",
    "print('b => a', b.intersection(a))\n",
    "# mostrar dados diferentes\n",
    "print('a => b', a-b)\n",
    "print('b => a', b.difference(a))\n"
   ]
  },
  {
   "cell_type": "code",
   "execution_count": null,
   "metadata": {},
   "outputs": [],
   "source": []
  }
 ],
 "metadata": {
  "kernelspec": {
   "display_name": "Python 3",
   "language": "python",
   "name": "python3"
  },
  "language_info": {
   "codemirror_mode": {
    "name": "ipython",
    "version": 3
   },
   "file_extension": ".py",
   "mimetype": "text/x-python",
   "name": "python",
   "nbconvert_exporter": "python",
   "pygments_lexer": "ipython3",
   "version": "3.10.12"
  }
 },
 "nbformat": 4,
 "nbformat_minor": 2
}
