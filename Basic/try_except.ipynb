{
 "cells": [
  {
   "cell_type": "code",
   "execution_count": 10,
   "metadata": {},
   "outputs": [
    {
     "name": "stdout",
     "output_type": "stream",
     "text": [
      "https://secreto.tecnicasdeinvasao.com\n",
      "https://comunidade.tecnicasdeinvasao.com\n"
     ]
    }
   ],
   "source": [
    "import requests\n",
    "subs = [\"teste\", \"backup\", \"email\", \"admin\", \"secreto\", \"comunidade\"]\n",
    "url = \"tecnicasdeinvasao.com\"\n",
    "for sub in subs:\n",
    "    site = \"https://\"+sub+\".\"+url\n",
    "    try:\n",
    "        rq = requests.get(site)\n",
    "        print(site)\n",
    "    except:\n",
    "        continue\n"
   ]
  }
 ],
 "metadata": {
  "kernelspec": {
   "display_name": "Python 3",
   "language": "python",
   "name": "python3"
  },
  "language_info": {
   "codemirror_mode": {
    "name": "ipython",
    "version": 3
   },
   "file_extension": ".py",
   "mimetype": "text/x-python",
   "name": "python",
   "nbconvert_exporter": "python",
   "pygments_lexer": "ipython3",
   "version": "3.10.12"
  }
 },
 "nbformat": 4,
 "nbformat_minor": 2
}
