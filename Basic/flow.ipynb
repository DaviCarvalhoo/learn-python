{
 "cells": [
  {
   "cell_type": "code",
   "execution_count": 3,
   "metadata": {},
   "outputs": [
    {
     "name": "stdout",
     "output_type": "stream",
     "text": [
      "Habilitado para solicitar aposentadoria!\n"
     ]
    }
   ],
   "source": [
    "idade = 50\n",
    "tempo_contrib = 35\n",
    "if idade >= 65 or tempo_contrib >= 35:\n",
    "    print(\"Habilitado para solicitar aposentadoria!\")\n",
    "else:\n",
    "    print(\"Não pode solicitar aposentadoria :(\")"
   ]
  },
  {
   "cell_type": "code",
   "execution_count": 8,
   "metadata": {},
   "outputs": [
    {
     "name": "stdout",
     "output_type": "stream",
     "text": [
      "Idoso\n"
     ]
    }
   ],
   "source": [
    "idade = 69\n",
    "if idade < 12:\n",
    "    print(\"Criança\")\n",
    "elif idade < 18:\n",
    "    print(\"Adolescente\")\n",
    "elif idade < 60:\n",
    "    print(\"Adulto\")\n",
    "else:\n",
    "    print(\"Idoso\")"
   ]
  }
 ],
 "metadata": {
  "kernelspec": {
   "display_name": "Python 3",
   "language": "python",
   "name": "python3"
  },
  "language_info": {
   "codemirror_mode": {
    "name": "ipython",
    "version": 3
   },
   "file_extension": ".py",
   "mimetype": "text/x-python",
   "name": "python",
   "nbconvert_exporter": "python",
   "pygments_lexer": "ipython3",
   "version": "3.10.12"
  }
 },
 "nbformat": 4,
 "nbformat_minor": 2
}
