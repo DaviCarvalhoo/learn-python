{
 "cells": [
  {
   "cell_type": "code",
   "execution_count": 6,
   "metadata": {},
   "outputs": [
    {
     "name": "stdout",
     "output_type": "stream",
     "text": [
      "Olá, Daniel bem-vindo!\n"
     ]
    }
   ],
   "source": [
    "nome = \"Daniel\"\n",
    "print(\"Olá,\",nome,\"bem-vindo!\")"
   ]
  },
  {
   "cell_type": "code",
   "execution_count": 7,
   "metadata": {},
   "outputs": [
    {
     "name": "stdout",
     "output_type": "stream",
     "text": [
      "Olá, Davi. Seja bem-vindo!\n"
     ]
    }
   ],
   "source": [
    "#comentario em python\n",
    "nome = \"dAVi\"\n",
    "nome = nome.title()#arrumando o nome\n",
    "print(f\"Olá, {nome}. Seja bem-vindo!\")\n"
   ]
  },
  {
   "cell_type": "code",
   "execution_count": 8,
   "metadata": {},
   "outputs": [
    {
     "name": "stdout",
     "output_type": "stream",
     "text": [
      "O número 2 é par\n"
     ]
    }
   ],
   "source": [
    "num = 2\n",
    "impar_par = \"par\" if num%2 == 0 else \"impar\"\n",
    "print(f\"O número {num} é {impar_par}\")"
   ]
  },
  {
   "cell_type": "code",
   "execution_count": 4,
   "metadata": {},
   "outputs": [
    {
     "name": "stdout",
     "output_type": "stream",
     "text": [
      "Olá Davi, seja bem-vindo!\n"
     ]
    }
   ],
   "source": [
    "nome = input(\"Digite seu nome: \")\n",
    "nome = nome.capitalize()\n",
    "print(f\"Olá {nome}, seja bem-vindo!\")"
   ]
  }
 ],
 "metadata": {
  "kernelspec": {
   "display_name": "Python 3",
   "language": "python",
   "name": "python3"
  },
  "language_info": {
   "codemirror_mode": {
    "name": "ipython",
    "version": 3
   },
   "file_extension": ".py",
   "mimetype": "text/x-python",
   "name": "python",
   "nbconvert_exporter": "python",
   "pygments_lexer": "ipython3",
   "version": "3.10.12"
  },
  "orig_nbformat": 4
 },
 "nbformat": 4,
 "nbformat_minor": 2
}
