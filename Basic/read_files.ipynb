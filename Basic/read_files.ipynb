{
 "cells": [
  {
   "cell_type": "code",
   "execution_count": null,
   "metadata": {},
   "outputs": [],
   "source": [
    "# 'r'Modo somente leitura (modo padrão).\n",
    "# 'w'Modo de escrita. Cria um arquivo, caso ainda não exista, ou substitui o\n",
    "# arquivo atual.\n",
    "# 'x'Modo de escrita. Cria um arquivo e, se o arquivo já existir, retorna um erro.\n",
    "# 'a'Modo de escrita. Cria um arquivo, caso ainda não exista. Se o arquivo já\n",
    "# existir, novas escritas serão adicionadas ao final dele.\n",
    "# 't'Abre o arquivo no modo texto (modo padrão).\n",
    "# 'b'Abre o arquivo no modo binário"
   ]
  },
  {
   "cell_type": "code",
   "execution_count": 29,
   "metadata": {},
   "outputs": [
    {
     "name": "stdout",
     "output_type": "stream",
     "text": [
      "SP\n",
      "RJ\n",
      "BA\n",
      "DF\n",
      "CE\n",
      "MG\n",
      "AM\n",
      "PR\n",
      "PE\n",
      "RS\n",
      "PA\n",
      "GO\n",
      "SP\n",
      "SP\n",
      "MA\n"
     ]
    }
   ],
   "source": [
    "archive = open('cities.txt', 'r')\n",
    "for c in archive:\n",
    "    c = c.rstrip()\n",
    "    list = c.split(\";\")\n",
    "    population = list[-1]\n",
    "    name = list[1]\n",
    "    code = list[0]\n",
    "    print(code)\n",
    "archive.close()"
   ]
  },
  {
   "cell_type": "code",
   "execution_count": 32,
   "metadata": {},
   "outputs": [
    {
     "name": "stdout",
     "output_type": "stream",
     "text": [
      "SP; São Paulo; 11895893\n",
      "RJ; Rio de Janeiro; 6453682\n",
      "BA; Salvador; 2902927\n",
      "DF; Brasília; 2852372\n",
      "CE; Fortaleza; 2571896\n",
      "MG; Belo Horizonte; 2491109\n",
      "AM; Manaus; 2020301\n",
      "PR; Curitiba; 1864416\n",
      "PE; Recife; 1608488\n",
      "RS; Porto Alegre; 1472482\n",
      "PA; Belém; 1432844\n",
      "GO; Goiânia; 1412364\n",
      "SP; Guarulhos; 1312197\n",
      "SP; Campinas; 1154617\n",
      "MA; São Luís; 1064197\n"
     ]
    }
   ],
   "source": [
    "archive = open('cities.txt', 'r')\n",
    "line = archive.read()\n",
    "archive.close()\n",
    "print(line)"
   ]
  },
  {
   "cell_type": "code",
   "execution_count": 35,
   "metadata": {},
   "outputs": [
    {
     "name": "stdout",
     "output_type": "stream",
     "text": [
      "['SP; São Paulo; 11895893\\n', 'RJ; Rio de Janeiro; 6453682\\n', 'BA; Salvador; 2902927\\n', 'DF; Brasília; 2852372\\n', 'CE; Fortaleza; 2571896\\n', 'MG; Belo Horizonte; 2491109\\n', 'AM; Manaus; 2020301\\n', 'PR; Curitiba; 1864416\\n', 'PE; Recife; 1608488\\n', 'RS; Porto Alegre; 1472482\\n', 'PA; Belém; 1432844\\n', 'GO; Goiânia; 1412364\\n', 'SP; Guarulhos; 1312197\\n', 'SP; Campinas; 1154617\\n', 'MA; São Luís; 1064197']\n"
     ]
    }
   ],
   "source": [
    "archive = open('cities.txt', 'r')\n",
    "lines = archive.readlines()\n",
    "archive.close()\n",
    "print(lines)"
   ]
  },
  {
   "cell_type": "code",
   "execution_count": 38,
   "metadata": {},
   "outputs": [
    {
     "name": "stdout",
     "output_type": "stream",
     "text": [
      "['SP; São Paulo; 11895893', 'RJ; Rio de Janeiro; 6453682', 'BA; Salvador; 2902927', 'DF; Brasília; 2852372', 'CE; Fortaleza; 2571896', 'MG; Belo Horizonte; 2491109', 'AM; Manaus; 2020301', 'PR; Curitiba; 1864416', 'PE; Recife; 1608488', 'RS; Porto Alegre; 1472482', 'PA; Belém; 1432844', 'GO; Goiânia; 1412364', 'SP; Guarulhos; 1312197', 'SP; Campinas; 1154617', 'MA; São Luís; 1064197']\n"
     ]
    }
   ],
   "source": [
    "new_lines = []\n",
    "for line in lines:\n",
    "    new_lines.append(line.rstrip())\n",
    "print(new_lines)"
   ]
  },
  {
   "cell_type": "code",
   "execution_count": 43,
   "metadata": {},
   "outputs": [],
   "source": [
    "archive = open('cities.txt', 'a')\n",
    "archive.write('RJ; São Gonçalo; 1031903\\n')\n",
    "archive.close()"
   ]
  }
 ],
 "metadata": {
  "kernelspec": {
   "display_name": "Python 3",
   "language": "python",
   "name": "python3"
  },
  "language_info": {
   "name": "python",
   "version": "3.10.12"
  }
 },
 "nbformat": 4,
 "nbformat_minor": 2
}
