{
 "cells": [
  {
   "cell_type": "code",
   "execution_count": 7,
   "metadata": {},
   "outputs": [
    {
     "name": "stdout",
     "output_type": "stream",
     "text": [
      "10\n",
      "9\n",
      "8\n",
      "7\n",
      "6\n",
      "5\n",
      "4\n",
      "3\n",
      "2\n",
      "1\n"
     ]
    }
   ],
   "source": [
    "n = 10\n",
    "while n > 0:\n",
    "    print(n)\n",
    "    n -= 1"
   ]
  },
  {
   "cell_type": "code",
   "execution_count": 6,
   "metadata": {},
   "outputs": [
    {
     "name": "stdout",
     "output_type": "stream",
     "text": [
      "contador: 0\n",
      "contador: 1\n",
      "contador: 2\n",
      "contador: 3\n",
      "contador: 4\n",
      "contador: 5\n",
      "contador: 6\n",
      "contador: 7\n",
      "contador: 8\n",
      "contador: 9\n",
      "contador: 10\n"
     ]
    }
   ],
   "source": [
    "contador =0\n",
    "while contador <= 10:\n",
    "    print(\"contador: \" +str(contador))\n",
    "    contador+=1\n"
   ]
  },
  {
   "cell_type": "code",
   "execution_count": 19,
   "metadata": {},
   "outputs": [
    {
     "name": "stdout",
     "output_type": "stream",
     "text": [
      "D\n",
      "a\n",
      "v\n",
      "i\n"
     ]
    }
   ],
   "source": [
    "n = [1,2,3,4,5,6,7]\n",
    "name = \"Davi\"\n",
    "# for num in n:\n",
    "#     print(num)\n",
    "for l in name:\n",
    "    print(l)"
   ]
  },
  {
   "cell_type": "code",
   "execution_count": 25,
   "metadata": {},
   "outputs": [
    {
     "name": "stdout",
     "output_type": "stream",
     "text": [
      "O nome araraquara tem, 5 letras 'a', é 3 letras 'r'\n"
     ]
    }
   ],
   "source": [
    "city = \"araraquara\"\n",
    "contador_a = 0\n",
    "contador_r = 0\n",
    "for letra in city:\n",
    "    if letra == 'a':\n",
    "        contador_a += 1\n",
    "    if letra == 'r':\n",
    "        contador_r += 1\n",
    "print(f\"O nome araraquara tem, {contador_a} letras 'a', é {contador_r} letras 'r'\")\n"
   ]
  },
  {
   "cell_type": "code",
   "execution_count": 36,
   "metadata": {},
   "outputs": [
    {
     "name": "stdout",
     "output_type": "stream",
     "text": [
      "0\n",
      "2\n",
      "4\n",
      "6\n",
      "8\n",
      "24\n"
     ]
    }
   ],
   "source": [
    "# for num in range(250, 301):\n",
    "#     if num % 21 == 0:\n",
    "#         print(f\"numero encontrado: {num}\")\n",
    "#         break\n",
    "for num in range(0, 10, 2):\n",
    "    print(num)\n",
    "# range(inicio, fim, incremento)\n"
   ]
  }
 ],
 "metadata": {
  "kernelspec": {
   "display_name": "Python 3",
   "language": "python",
   "name": "python3"
  },
  "language_info": {
   "codemirror_mode": {
    "name": "ipython",
    "version": 3
   },
   "file_extension": ".py",
   "mimetype": "text/x-python",
   "name": "python",
   "nbconvert_exporter": "python",
   "pygments_lexer": "ipython3",
   "version": "3.10.12"
  }
 },
 "nbformat": 4,
 "nbformat_minor": 2
}
